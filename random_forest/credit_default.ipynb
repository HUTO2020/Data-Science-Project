{
 "cells": [
  {
   "cell_type": "markdown",
   "metadata": {},
   "source": [
    "# Credit default Analysis\n"
   ]
  },
  {
   "cell_type": "markdown",
   "metadata": {},
   "source": [
    "\n",
    "\n",
    "## Introduction\n",
    "\n",
    "High credit card default rate can make a business in trouble even bankrupt. The propose of this project is to predict whether a client defaults on her/his credit card, the business can underwrite credit cards more carefully to the potential clients who cannot pay bills with high probability.\n",
    "\n",
    "About the features:\n",
    "\n",
    "    (1) ID: ID of each client\n",
    "    (2) LIMIT_BAL: Amount of given credit in NT dollars (includes individual and\n",
    "    family/supplementary credit\n",
    "    (3) SEX: Gender (1=male, 2=female)\n",
    "    (4) EDUCATION: (1=graduate school, 2=university, 3=high school, 4=others, 5=unknown,\n",
    "    6=unknown)\n",
    "    (5) MARRIAGE: Marital status (1=married, 2=single, 3=others)\n",
    "    (6) AGE: Age in years\n",
    "    (7) PAY_0: Repayment status in September, 2005 (-1=pay duly, 1=payment delay for one\n",
    "    month, 2=payment delay for two months, . . . 8=payment delay for eight months, 9=payment\n",
    "    delay for nine months and above)\n",
    "    (8) PAY_2: Repayment status in August, 2005 (scale same as above)\n",
    "    (9) PAY_3: Repayment status in July, 2005 (scale same as above)\n",
    "    (10) PAY_4: Repayment status in June, 2005 (scale same as above)\n",
    "    (11) PAY_5: Repayment status in May, 2005 (scale same as above)\n",
    "    (12) PAY_6: Repayment status in April, 2005 (scale same as above)\n",
    "    (13) BILL_AMT1: Amount of bill statement in September, 2005 (NT dollar)\n",
    "    (14) BILL_AMT2: Amount of bill statement in August, 2005 (NT dollar)\n",
    "    (15) BILL_AMT3: Amount of bill statement in July, 2005 (NT dollar)\n",
    "    (16) BILL_AMT4: Amount of bill statement in June, 2005 (NT dollar)\n",
    "    (17) BILL_AMT5: Amount of bill statement in May, 2005 (NT dollar)\n",
    "    (18) BILL_AMT6: Amount of bill statement in April, 2005 (NT dollar)\n",
    "    (19) PAY_AMT1: Amount of previous payment in September, 2005 (NT dollar)\n",
    "    (20) PAY_AMT2: Amount of previous payment in August, 2005 (NT dollar)\n",
    "    (21) PAY_AMT3: Amount of previous payment in July, 2005 (NT dollar)\n",
    "    (22) PAY_AMT4: Amount of previous payment in June, 2005 (NT dollar)\n",
    "    (23) PAY_AMT5: Amount of previous payment in May, 2005 (NT dollar)\n",
    "    (24) PAY_AMT6: Amount of previous payment in April, 2005 (NT dollar)\n",
    "    (25) target: Default payment (1=yes, 0=no)\n",
    "\n"
   ]
  },
  {
   "cell_type": "markdown",
   "metadata": {},
   "source": [
    "Dataset: https://www.kaggle.com/datasets/hassanamin/uci-credit-card"
   ]
  },
  {
   "cell_type": "code",
   "execution_count": 1,
   "metadata": {},
   "outputs": [],
   "source": [
    "import pandas as pd\n",
    "from sklearn.model_selection import learning_curve, train_test_split,GridSearchCV\n",
    "from sklearn.preprocessing import StandardScaler\n",
    "from sklearn.pipeline import Pipeline\n",
    "from sklearn.metrics import accuracy_score\n",
    "from sklearn.svm import SVC\n",
    "from sklearn.tree import DecisionTreeClassifier\n",
    "from sklearn.ensemble import RandomForestClassifier\n",
    "from sklearn.neighbors import KNeighborsClassifier\n",
    "from matplotlib import pyplot as plt\n",
    "import seaborn as sns\n",
    "import time"
   ]
  },
  {
   "cell_type": "code",
   "execution_count": 2,
   "metadata": {
    "vscode": {
     "languageId": "markdown"
    }
   },
   "outputs": [],
   "source": [
    "# load data \n",
    "data = pd.read_csv('./UCI_Credit_Card.csv')"
   ]
  },
  {
   "cell_type": "markdown",
   "metadata": {},
   "source": [
    "### Data EDA"
   ]
  },
  {
   "cell_type": "code",
   "execution_count": 3,
   "metadata": {
    "vscode": {
     "languageId": "markdown"
    }
   },
   "outputs": [
    {
     "data": {
      "text/html": [
       "<div>\n",
       "<style scoped>\n",
       "    .dataframe tbody tr th:only-of-type {\n",
       "        vertical-align: middle;\n",
       "    }\n",
       "\n",
       "    .dataframe tbody tr th {\n",
       "        vertical-align: top;\n",
       "    }\n",
       "\n",
       "    .dataframe thead th {\n",
       "        text-align: right;\n",
       "    }\n",
       "</style>\n",
       "<table border=\"1\" class=\"dataframe\">\n",
       "  <thead>\n",
       "    <tr style=\"text-align: right;\">\n",
       "      <th></th>\n",
       "      <th>ID</th>\n",
       "      <th>LIMIT_BAL</th>\n",
       "      <th>SEX</th>\n",
       "      <th>EDUCATION</th>\n",
       "      <th>MARRIAGE</th>\n",
       "      <th>AGE</th>\n",
       "      <th>PAY_0</th>\n",
       "      <th>PAY_2</th>\n",
       "      <th>PAY_3</th>\n",
       "      <th>PAY_4</th>\n",
       "      <th>...</th>\n",
       "      <th>BILL_AMT4</th>\n",
       "      <th>BILL_AMT5</th>\n",
       "      <th>BILL_AMT6</th>\n",
       "      <th>PAY_AMT1</th>\n",
       "      <th>PAY_AMT2</th>\n",
       "      <th>PAY_AMT3</th>\n",
       "      <th>PAY_AMT4</th>\n",
       "      <th>PAY_AMT5</th>\n",
       "      <th>PAY_AMT6</th>\n",
       "      <th>default.payment.next.month</th>\n",
       "    </tr>\n",
       "  </thead>\n",
       "  <tbody>\n",
       "    <tr>\n",
       "      <th>15440</th>\n",
       "      <td>15441</td>\n",
       "      <td>120000.0</td>\n",
       "      <td>1</td>\n",
       "      <td>1</td>\n",
       "      <td>2</td>\n",
       "      <td>27</td>\n",
       "      <td>0</td>\n",
       "      <td>0</td>\n",
       "      <td>0</td>\n",
       "      <td>0</td>\n",
       "      <td>...</td>\n",
       "      <td>74807.0</td>\n",
       "      <td>76952.0</td>\n",
       "      <td>0.0</td>\n",
       "      <td>3500.0</td>\n",
       "      <td>5390.0</td>\n",
       "      <td>3200.0</td>\n",
       "      <td>3500.0</td>\n",
       "      <td>3000.0</td>\n",
       "      <td>77233.0</td>\n",
       "      <td>0</td>\n",
       "    </tr>\n",
       "    <tr>\n",
       "      <th>4967</th>\n",
       "      <td>4968</td>\n",
       "      <td>50000.0</td>\n",
       "      <td>2</td>\n",
       "      <td>2</td>\n",
       "      <td>2</td>\n",
       "      <td>22</td>\n",
       "      <td>0</td>\n",
       "      <td>0</td>\n",
       "      <td>0</td>\n",
       "      <td>0</td>\n",
       "      <td>...</td>\n",
       "      <td>29606.0</td>\n",
       "      <td>30305.0</td>\n",
       "      <td>28895.0</td>\n",
       "      <td>1994.0</td>\n",
       "      <td>1500.0</td>\n",
       "      <td>1009.0</td>\n",
       "      <td>1124.0</td>\n",
       "      <td>1100.0</td>\n",
       "      <td>2000.0</td>\n",
       "      <td>1</td>\n",
       "    </tr>\n",
       "    <tr>\n",
       "      <th>17401</th>\n",
       "      <td>17402</td>\n",
       "      <td>50000.0</td>\n",
       "      <td>2</td>\n",
       "      <td>2</td>\n",
       "      <td>2</td>\n",
       "      <td>48</td>\n",
       "      <td>-1</td>\n",
       "      <td>-1</td>\n",
       "      <td>0</td>\n",
       "      <td>0</td>\n",
       "      <td>...</td>\n",
       "      <td>7838.0</td>\n",
       "      <td>7998.0</td>\n",
       "      <td>8161.0</td>\n",
       "      <td>8061.0</td>\n",
       "      <td>1398.0</td>\n",
       "      <td>1000.0</td>\n",
       "      <td>160.0</td>\n",
       "      <td>163.0</td>\n",
       "      <td>9217.0</td>\n",
       "      <td>0</td>\n",
       "    </tr>\n",
       "    <tr>\n",
       "      <th>3497</th>\n",
       "      <td>3498</td>\n",
       "      <td>240000.0</td>\n",
       "      <td>1</td>\n",
       "      <td>2</td>\n",
       "      <td>1</td>\n",
       "      <td>37</td>\n",
       "      <td>-1</td>\n",
       "      <td>-1</td>\n",
       "      <td>-1</td>\n",
       "      <td>0</td>\n",
       "      <td>...</td>\n",
       "      <td>22241.0</td>\n",
       "      <td>8472.0</td>\n",
       "      <td>500.0</td>\n",
       "      <td>5665.0</td>\n",
       "      <td>35000.0</td>\n",
       "      <td>8877.0</td>\n",
       "      <td>500.0</td>\n",
       "      <td>0.0</td>\n",
       "      <td>21257.0</td>\n",
       "      <td>0</td>\n",
       "    </tr>\n",
       "    <tr>\n",
       "      <th>13985</th>\n",
       "      <td>13986</td>\n",
       "      <td>160000.0</td>\n",
       "      <td>2</td>\n",
       "      <td>2</td>\n",
       "      <td>1</td>\n",
       "      <td>38</td>\n",
       "      <td>-1</td>\n",
       "      <td>-1</td>\n",
       "      <td>-1</td>\n",
       "      <td>-1</td>\n",
       "      <td>...</td>\n",
       "      <td>316.0</td>\n",
       "      <td>316.0</td>\n",
       "      <td>316.0</td>\n",
       "      <td>316.0</td>\n",
       "      <td>316.0</td>\n",
       "      <td>316.0</td>\n",
       "      <td>316.0</td>\n",
       "      <td>316.0</td>\n",
       "      <td>316.0</td>\n",
       "      <td>0</td>\n",
       "    </tr>\n",
       "    <tr>\n",
       "      <th>3189</th>\n",
       "      <td>3190</td>\n",
       "      <td>50000.0</td>\n",
       "      <td>2</td>\n",
       "      <td>2</td>\n",
       "      <td>2</td>\n",
       "      <td>23</td>\n",
       "      <td>-1</td>\n",
       "      <td>0</td>\n",
       "      <td>0</td>\n",
       "      <td>0</td>\n",
       "      <td>...</td>\n",
       "      <td>2698.0</td>\n",
       "      <td>2500.0</td>\n",
       "      <td>2296.0</td>\n",
       "      <td>1100.0</td>\n",
       "      <td>1181.0</td>\n",
       "      <td>300.0</td>\n",
       "      <td>300.0</td>\n",
       "      <td>300.0</td>\n",
       "      <td>250.0</td>\n",
       "      <td>0</td>\n",
       "    </tr>\n",
       "    <tr>\n",
       "      <th>4830</th>\n",
       "      <td>4831</td>\n",
       "      <td>140000.0</td>\n",
       "      <td>1</td>\n",
       "      <td>2</td>\n",
       "      <td>2</td>\n",
       "      <td>36</td>\n",
       "      <td>0</td>\n",
       "      <td>0</td>\n",
       "      <td>0</td>\n",
       "      <td>0</td>\n",
       "      <td>...</td>\n",
       "      <td>80284.0</td>\n",
       "      <td>80086.0</td>\n",
       "      <td>81759.0</td>\n",
       "      <td>3519.0</td>\n",
       "      <td>3027.0</td>\n",
       "      <td>2905.0</td>\n",
       "      <td>3000.0</td>\n",
       "      <td>3000.0</td>\n",
       "      <td>3100.0</td>\n",
       "      <td>0</td>\n",
       "    </tr>\n",
       "    <tr>\n",
       "      <th>1878</th>\n",
       "      <td>1879</td>\n",
       "      <td>300000.0</td>\n",
       "      <td>2</td>\n",
       "      <td>1</td>\n",
       "      <td>1</td>\n",
       "      <td>31</td>\n",
       "      <td>-2</td>\n",
       "      <td>-2</td>\n",
       "      <td>-1</td>\n",
       "      <td>0</td>\n",
       "      <td>...</td>\n",
       "      <td>7639.0</td>\n",
       "      <td>1722.0</td>\n",
       "      <td>4064.0</td>\n",
       "      <td>1110.0</td>\n",
       "      <td>12192.0</td>\n",
       "      <td>300.0</td>\n",
       "      <td>191.0</td>\n",
       "      <td>4064.0</td>\n",
       "      <td>390.0</td>\n",
       "      <td>0</td>\n",
       "    </tr>\n",
       "    <tr>\n",
       "      <th>25047</th>\n",
       "      <td>25048</td>\n",
       "      <td>360000.0</td>\n",
       "      <td>1</td>\n",
       "      <td>2</td>\n",
       "      <td>1</td>\n",
       "      <td>58</td>\n",
       "      <td>-1</td>\n",
       "      <td>-1</td>\n",
       "      <td>-1</td>\n",
       "      <td>-1</td>\n",
       "      <td>...</td>\n",
       "      <td>3026.0</td>\n",
       "      <td>1133.0</td>\n",
       "      <td>3408.0</td>\n",
       "      <td>10541.0</td>\n",
       "      <td>7600.0</td>\n",
       "      <td>3049.0</td>\n",
       "      <td>1138.0</td>\n",
       "      <td>3414.0</td>\n",
       "      <td>24952.0</td>\n",
       "      <td>1</td>\n",
       "    </tr>\n",
       "    <tr>\n",
       "      <th>8696</th>\n",
       "      <td>8697</td>\n",
       "      <td>50000.0</td>\n",
       "      <td>1</td>\n",
       "      <td>3</td>\n",
       "      <td>1</td>\n",
       "      <td>43</td>\n",
       "      <td>2</td>\n",
       "      <td>2</td>\n",
       "      <td>2</td>\n",
       "      <td>0</td>\n",
       "      <td>...</td>\n",
       "      <td>12650.0</td>\n",
       "      <td>13405.0</td>\n",
       "      <td>13793.0</td>\n",
       "      <td>3000.0</td>\n",
       "      <td>0.0</td>\n",
       "      <td>1500.0</td>\n",
       "      <td>1500.0</td>\n",
       "      <td>1000.0</td>\n",
       "      <td>1500.0</td>\n",
       "      <td>0</td>\n",
       "    </tr>\n",
       "  </tbody>\n",
       "</table>\n",
       "<p>10 rows × 25 columns</p>\n",
       "</div>"
      ],
      "text/plain": [
       "          ID  LIMIT_BAL  SEX  EDUCATION  MARRIAGE  AGE  PAY_0  PAY_2  PAY_3  \\\n",
       "15440  15441   120000.0    1          1         2   27      0      0      0   \n",
       "4967    4968    50000.0    2          2         2   22      0      0      0   \n",
       "17401  17402    50000.0    2          2         2   48     -1     -1      0   \n",
       "3497    3498   240000.0    1          2         1   37     -1     -1     -1   \n",
       "13985  13986   160000.0    2          2         1   38     -1     -1     -1   \n",
       "3189    3190    50000.0    2          2         2   23     -1      0      0   \n",
       "4830    4831   140000.0    1          2         2   36      0      0      0   \n",
       "1878    1879   300000.0    2          1         1   31     -2     -2     -1   \n",
       "25047  25048   360000.0    1          2         1   58     -1     -1     -1   \n",
       "8696    8697    50000.0    1          3         1   43      2      2      2   \n",
       "\n",
       "       PAY_4  ...  BILL_AMT4  BILL_AMT5  BILL_AMT6  PAY_AMT1  PAY_AMT2  \\\n",
       "15440      0  ...    74807.0    76952.0        0.0    3500.0    5390.0   \n",
       "4967       0  ...    29606.0    30305.0    28895.0    1994.0    1500.0   \n",
       "17401      0  ...     7838.0     7998.0     8161.0    8061.0    1398.0   \n",
       "3497       0  ...    22241.0     8472.0      500.0    5665.0   35000.0   \n",
       "13985     -1  ...      316.0      316.0      316.0     316.0     316.0   \n",
       "3189       0  ...     2698.0     2500.0     2296.0    1100.0    1181.0   \n",
       "4830       0  ...    80284.0    80086.0    81759.0    3519.0    3027.0   \n",
       "1878       0  ...     7639.0     1722.0     4064.0    1110.0   12192.0   \n",
       "25047     -1  ...     3026.0     1133.0     3408.0   10541.0    7600.0   \n",
       "8696       0  ...    12650.0    13405.0    13793.0    3000.0       0.0   \n",
       "\n",
       "       PAY_AMT3  PAY_AMT4  PAY_AMT5  PAY_AMT6  default.payment.next.month  \n",
       "15440    3200.0    3500.0    3000.0   77233.0                           0  \n",
       "4967     1009.0    1124.0    1100.0    2000.0                           1  \n",
       "17401    1000.0     160.0     163.0    9217.0                           0  \n",
       "3497     8877.0     500.0       0.0   21257.0                           0  \n",
       "13985     316.0     316.0     316.0     316.0                           0  \n",
       "3189      300.0     300.0     300.0     250.0                           0  \n",
       "4830     2905.0    3000.0    3000.0    3100.0                           0  \n",
       "1878      300.0     191.0    4064.0     390.0                           0  \n",
       "25047    3049.0    1138.0    3414.0   24952.0                           1  \n",
       "8696     1500.0    1500.0    1000.0    1500.0                           0  \n",
       "\n",
       "[10 rows x 25 columns]"
      ]
     },
     "execution_count": 3,
     "metadata": {},
     "output_type": "execute_result"
    }
   ],
   "source": [
    "data.sample(10)"
   ]
  },
  {
   "cell_type": "code",
   "execution_count": 4,
   "metadata": {
    "vscode": {
     "languageId": "markdown"
    }
   },
   "outputs": [
    {
     "name": "stdout",
     "output_type": "stream",
     "text": [
      "<class 'pandas.core.frame.DataFrame'>\n",
      "RangeIndex: 30000 entries, 0 to 29999\n",
      "Data columns (total 25 columns):\n",
      " #   Column                      Non-Null Count  Dtype  \n",
      "---  ------                      --------------  -----  \n",
      " 0   ID                          30000 non-null  int64  \n",
      " 1   LIMIT_BAL                   30000 non-null  float64\n",
      " 2   SEX                         30000 non-null  int64  \n",
      " 3   EDUCATION                   30000 non-null  int64  \n",
      " 4   MARRIAGE                    30000 non-null  int64  \n",
      " 5   AGE                         30000 non-null  int64  \n",
      " 6   PAY_0                       30000 non-null  int64  \n",
      " 7   PAY_2                       30000 non-null  int64  \n",
      " 8   PAY_3                       30000 non-null  int64  \n",
      " 9   PAY_4                       30000 non-null  int64  \n",
      " 10  PAY_5                       30000 non-null  int64  \n",
      " 11  PAY_6                       30000 non-null  int64  \n",
      " 12  BILL_AMT1                   30000 non-null  float64\n",
      " 13  BILL_AMT2                   30000 non-null  float64\n",
      " 14  BILL_AMT3                   30000 non-null  float64\n",
      " 15  BILL_AMT4                   30000 non-null  float64\n",
      " 16  BILL_AMT5                   30000 non-null  float64\n",
      " 17  BILL_AMT6                   30000 non-null  float64\n",
      " 18  PAY_AMT1                    30000 non-null  float64\n",
      " 19  PAY_AMT2                    30000 non-null  float64\n",
      " 20  PAY_AMT3                    30000 non-null  float64\n",
      " 21  PAY_AMT4                    30000 non-null  float64\n",
      " 22  PAY_AMT5                    30000 non-null  float64\n",
      " 23  PAY_AMT6                    30000 non-null  float64\n",
      " 24  default.payment.next.month  30000 non-null  int64  \n",
      "dtypes: float64(13), int64(12)\n",
      "memory usage: 5.7 MB\n"
     ]
    }
   ],
   "source": [
    "data.info()"
   ]
  },
  {
   "cell_type": "code",
   "execution_count": 5,
   "metadata": {
    "vscode": {
     "languageId": "markdown"
    }
   },
   "outputs": [
    {
     "data": {
      "text/plain": [
       "(30000, 25)"
      ]
     },
     "execution_count": 5,
     "metadata": {},
     "output_type": "execute_result"
    }
   ],
   "source": [
    "data.shape"
   ]
  },
  {
   "cell_type": "code",
   "execution_count": 6,
   "metadata": {
    "vscode": {
     "languageId": "markdown"
    }
   },
   "outputs": [
    {
     "data": {
      "text/html": [
       "<div>\n",
       "<style scoped>\n",
       "    .dataframe tbody tr th:only-of-type {\n",
       "        vertical-align: middle;\n",
       "    }\n",
       "\n",
       "    .dataframe tbody tr th {\n",
       "        vertical-align: top;\n",
       "    }\n",
       "\n",
       "    .dataframe thead th {\n",
       "        text-align: right;\n",
       "    }\n",
       "</style>\n",
       "<table border=\"1\" class=\"dataframe\">\n",
       "  <thead>\n",
       "    <tr style=\"text-align: right;\">\n",
       "      <th></th>\n",
       "      <th>ID</th>\n",
       "      <th>LIMIT_BAL</th>\n",
       "      <th>SEX</th>\n",
       "      <th>EDUCATION</th>\n",
       "      <th>MARRIAGE</th>\n",
       "      <th>AGE</th>\n",
       "      <th>PAY_0</th>\n",
       "      <th>PAY_2</th>\n",
       "      <th>PAY_3</th>\n",
       "      <th>PAY_4</th>\n",
       "      <th>...</th>\n",
       "      <th>BILL_AMT4</th>\n",
       "      <th>BILL_AMT5</th>\n",
       "      <th>BILL_AMT6</th>\n",
       "      <th>PAY_AMT1</th>\n",
       "      <th>PAY_AMT2</th>\n",
       "      <th>PAY_AMT3</th>\n",
       "      <th>PAY_AMT4</th>\n",
       "      <th>PAY_AMT5</th>\n",
       "      <th>PAY_AMT6</th>\n",
       "      <th>default.payment.next.month</th>\n",
       "    </tr>\n",
       "  </thead>\n",
       "  <tbody>\n",
       "    <tr>\n",
       "      <th>count</th>\n",
       "      <td>30000.000000</td>\n",
       "      <td>30000.000000</td>\n",
       "      <td>30000.000000</td>\n",
       "      <td>30000.000000</td>\n",
       "      <td>30000.000000</td>\n",
       "      <td>30000.000000</td>\n",
       "      <td>30000.000000</td>\n",
       "      <td>30000.000000</td>\n",
       "      <td>30000.000000</td>\n",
       "      <td>30000.000000</td>\n",
       "      <td>...</td>\n",
       "      <td>30000.000000</td>\n",
       "      <td>30000.000000</td>\n",
       "      <td>30000.000000</td>\n",
       "      <td>30000.000000</td>\n",
       "      <td>3.000000e+04</td>\n",
       "      <td>30000.00000</td>\n",
       "      <td>30000.000000</td>\n",
       "      <td>30000.000000</td>\n",
       "      <td>30000.000000</td>\n",
       "      <td>30000.000000</td>\n",
       "    </tr>\n",
       "    <tr>\n",
       "      <th>mean</th>\n",
       "      <td>15000.500000</td>\n",
       "      <td>167484.322667</td>\n",
       "      <td>1.603733</td>\n",
       "      <td>1.853133</td>\n",
       "      <td>1.551867</td>\n",
       "      <td>35.485500</td>\n",
       "      <td>-0.016700</td>\n",
       "      <td>-0.133767</td>\n",
       "      <td>-0.166200</td>\n",
       "      <td>-0.220667</td>\n",
       "      <td>...</td>\n",
       "      <td>43262.948967</td>\n",
       "      <td>40311.400967</td>\n",
       "      <td>38871.760400</td>\n",
       "      <td>5663.580500</td>\n",
       "      <td>5.921163e+03</td>\n",
       "      <td>5225.68150</td>\n",
       "      <td>4826.076867</td>\n",
       "      <td>4799.387633</td>\n",
       "      <td>5215.502567</td>\n",
       "      <td>0.221200</td>\n",
       "    </tr>\n",
       "    <tr>\n",
       "      <th>std</th>\n",
       "      <td>8660.398374</td>\n",
       "      <td>129747.661567</td>\n",
       "      <td>0.489129</td>\n",
       "      <td>0.790349</td>\n",
       "      <td>0.521970</td>\n",
       "      <td>9.217904</td>\n",
       "      <td>1.123802</td>\n",
       "      <td>1.197186</td>\n",
       "      <td>1.196868</td>\n",
       "      <td>1.169139</td>\n",
       "      <td>...</td>\n",
       "      <td>64332.856134</td>\n",
       "      <td>60797.155770</td>\n",
       "      <td>59554.107537</td>\n",
       "      <td>16563.280354</td>\n",
       "      <td>2.304087e+04</td>\n",
       "      <td>17606.96147</td>\n",
       "      <td>15666.159744</td>\n",
       "      <td>15278.305679</td>\n",
       "      <td>17777.465775</td>\n",
       "      <td>0.415062</td>\n",
       "    </tr>\n",
       "    <tr>\n",
       "      <th>min</th>\n",
       "      <td>1.000000</td>\n",
       "      <td>10000.000000</td>\n",
       "      <td>1.000000</td>\n",
       "      <td>0.000000</td>\n",
       "      <td>0.000000</td>\n",
       "      <td>21.000000</td>\n",
       "      <td>-2.000000</td>\n",
       "      <td>-2.000000</td>\n",
       "      <td>-2.000000</td>\n",
       "      <td>-2.000000</td>\n",
       "      <td>...</td>\n",
       "      <td>-170000.000000</td>\n",
       "      <td>-81334.000000</td>\n",
       "      <td>-339603.000000</td>\n",
       "      <td>0.000000</td>\n",
       "      <td>0.000000e+00</td>\n",
       "      <td>0.00000</td>\n",
       "      <td>0.000000</td>\n",
       "      <td>0.000000</td>\n",
       "      <td>0.000000</td>\n",
       "      <td>0.000000</td>\n",
       "    </tr>\n",
       "    <tr>\n",
       "      <th>25%</th>\n",
       "      <td>7500.750000</td>\n",
       "      <td>50000.000000</td>\n",
       "      <td>1.000000</td>\n",
       "      <td>1.000000</td>\n",
       "      <td>1.000000</td>\n",
       "      <td>28.000000</td>\n",
       "      <td>-1.000000</td>\n",
       "      <td>-1.000000</td>\n",
       "      <td>-1.000000</td>\n",
       "      <td>-1.000000</td>\n",
       "      <td>...</td>\n",
       "      <td>2326.750000</td>\n",
       "      <td>1763.000000</td>\n",
       "      <td>1256.000000</td>\n",
       "      <td>1000.000000</td>\n",
       "      <td>8.330000e+02</td>\n",
       "      <td>390.00000</td>\n",
       "      <td>296.000000</td>\n",
       "      <td>252.500000</td>\n",
       "      <td>117.750000</td>\n",
       "      <td>0.000000</td>\n",
       "    </tr>\n",
       "    <tr>\n",
       "      <th>50%</th>\n",
       "      <td>15000.500000</td>\n",
       "      <td>140000.000000</td>\n",
       "      <td>2.000000</td>\n",
       "      <td>2.000000</td>\n",
       "      <td>2.000000</td>\n",
       "      <td>34.000000</td>\n",
       "      <td>0.000000</td>\n",
       "      <td>0.000000</td>\n",
       "      <td>0.000000</td>\n",
       "      <td>0.000000</td>\n",
       "      <td>...</td>\n",
       "      <td>19052.000000</td>\n",
       "      <td>18104.500000</td>\n",
       "      <td>17071.000000</td>\n",
       "      <td>2100.000000</td>\n",
       "      <td>2.009000e+03</td>\n",
       "      <td>1800.00000</td>\n",
       "      <td>1500.000000</td>\n",
       "      <td>1500.000000</td>\n",
       "      <td>1500.000000</td>\n",
       "      <td>0.000000</td>\n",
       "    </tr>\n",
       "    <tr>\n",
       "      <th>75%</th>\n",
       "      <td>22500.250000</td>\n",
       "      <td>240000.000000</td>\n",
       "      <td>2.000000</td>\n",
       "      <td>2.000000</td>\n",
       "      <td>2.000000</td>\n",
       "      <td>41.000000</td>\n",
       "      <td>0.000000</td>\n",
       "      <td>0.000000</td>\n",
       "      <td>0.000000</td>\n",
       "      <td>0.000000</td>\n",
       "      <td>...</td>\n",
       "      <td>54506.000000</td>\n",
       "      <td>50190.500000</td>\n",
       "      <td>49198.250000</td>\n",
       "      <td>5006.000000</td>\n",
       "      <td>5.000000e+03</td>\n",
       "      <td>4505.00000</td>\n",
       "      <td>4013.250000</td>\n",
       "      <td>4031.500000</td>\n",
       "      <td>4000.000000</td>\n",
       "      <td>0.000000</td>\n",
       "    </tr>\n",
       "    <tr>\n",
       "      <th>max</th>\n",
       "      <td>30000.000000</td>\n",
       "      <td>1000000.000000</td>\n",
       "      <td>2.000000</td>\n",
       "      <td>6.000000</td>\n",
       "      <td>3.000000</td>\n",
       "      <td>79.000000</td>\n",
       "      <td>8.000000</td>\n",
       "      <td>8.000000</td>\n",
       "      <td>8.000000</td>\n",
       "      <td>8.000000</td>\n",
       "      <td>...</td>\n",
       "      <td>891586.000000</td>\n",
       "      <td>927171.000000</td>\n",
       "      <td>961664.000000</td>\n",
       "      <td>873552.000000</td>\n",
       "      <td>1.684259e+06</td>\n",
       "      <td>896040.00000</td>\n",
       "      <td>621000.000000</td>\n",
       "      <td>426529.000000</td>\n",
       "      <td>528666.000000</td>\n",
       "      <td>1.000000</td>\n",
       "    </tr>\n",
       "  </tbody>\n",
       "</table>\n",
       "<p>8 rows × 25 columns</p>\n",
       "</div>"
      ],
      "text/plain": [
       "                 ID       LIMIT_BAL           SEX     EDUCATION      MARRIAGE  \\\n",
       "count  30000.000000    30000.000000  30000.000000  30000.000000  30000.000000   \n",
       "mean   15000.500000   167484.322667      1.603733      1.853133      1.551867   \n",
       "std     8660.398374   129747.661567      0.489129      0.790349      0.521970   \n",
       "min        1.000000    10000.000000      1.000000      0.000000      0.000000   \n",
       "25%     7500.750000    50000.000000      1.000000      1.000000      1.000000   \n",
       "50%    15000.500000   140000.000000      2.000000      2.000000      2.000000   \n",
       "75%    22500.250000   240000.000000      2.000000      2.000000      2.000000   \n",
       "max    30000.000000  1000000.000000      2.000000      6.000000      3.000000   \n",
       "\n",
       "                AGE         PAY_0         PAY_2         PAY_3         PAY_4  \\\n",
       "count  30000.000000  30000.000000  30000.000000  30000.000000  30000.000000   \n",
       "mean      35.485500     -0.016700     -0.133767     -0.166200     -0.220667   \n",
       "std        9.217904      1.123802      1.197186      1.196868      1.169139   \n",
       "min       21.000000     -2.000000     -2.000000     -2.000000     -2.000000   \n",
       "25%       28.000000     -1.000000     -1.000000     -1.000000     -1.000000   \n",
       "50%       34.000000      0.000000      0.000000      0.000000      0.000000   \n",
       "75%       41.000000      0.000000      0.000000      0.000000      0.000000   \n",
       "max       79.000000      8.000000      8.000000      8.000000      8.000000   \n",
       "\n",
       "       ...      BILL_AMT4      BILL_AMT5      BILL_AMT6       PAY_AMT1  \\\n",
       "count  ...   30000.000000   30000.000000   30000.000000   30000.000000   \n",
       "mean   ...   43262.948967   40311.400967   38871.760400    5663.580500   \n",
       "std    ...   64332.856134   60797.155770   59554.107537   16563.280354   \n",
       "min    ... -170000.000000  -81334.000000 -339603.000000       0.000000   \n",
       "25%    ...    2326.750000    1763.000000    1256.000000    1000.000000   \n",
       "50%    ...   19052.000000   18104.500000   17071.000000    2100.000000   \n",
       "75%    ...   54506.000000   50190.500000   49198.250000    5006.000000   \n",
       "max    ...  891586.000000  927171.000000  961664.000000  873552.000000   \n",
       "\n",
       "           PAY_AMT2      PAY_AMT3       PAY_AMT4       PAY_AMT5  \\\n",
       "count  3.000000e+04   30000.00000   30000.000000   30000.000000   \n",
       "mean   5.921163e+03    5225.68150    4826.076867    4799.387633   \n",
       "std    2.304087e+04   17606.96147   15666.159744   15278.305679   \n",
       "min    0.000000e+00       0.00000       0.000000       0.000000   \n",
       "25%    8.330000e+02     390.00000     296.000000     252.500000   \n",
       "50%    2.009000e+03    1800.00000    1500.000000    1500.000000   \n",
       "75%    5.000000e+03    4505.00000    4013.250000    4031.500000   \n",
       "max    1.684259e+06  896040.00000  621000.000000  426529.000000   \n",
       "\n",
       "            PAY_AMT6  default.payment.next.month  \n",
       "count   30000.000000                30000.000000  \n",
       "mean     5215.502567                    0.221200  \n",
       "std     17777.465775                    0.415062  \n",
       "min         0.000000                    0.000000  \n",
       "25%       117.750000                    0.000000  \n",
       "50%      1500.000000                    0.000000  \n",
       "75%      4000.000000                    0.000000  \n",
       "max    528666.000000                    1.000000  \n",
       "\n",
       "[8 rows x 25 columns]"
      ]
     },
     "execution_count": 6,
     "metadata": {},
     "output_type": "execute_result"
    }
   ],
   "source": [
    "data.describe()"
   ]
  },
  {
   "cell_type": "code",
   "execution_count": 7,
   "metadata": {
    "vscode": {
     "languageId": "markdown"
    }
   },
   "outputs": [
    {
     "name": "stdout",
     "output_type": "stream",
     "text": [
      "0    23364\n",
      "1     6636\n",
      "Name: default.payment.next.month, dtype: int64\n"
     ]
    }
   ],
   "source": [
    "next_month = data['default.payment.next.month'].value_counts()\n",
    "print(next_month)"
   ]
  },
  {
   "cell_type": "code",
   "execution_count": 8,
   "metadata": {
    "vscode": {
     "languageId": "markdown"
    }
   },
   "outputs": [],
   "source": [
    "# create a DataFrame for the result\n",
    "df = pd.DataFrame({'default.payment.next.month': next_month.index,'values': next_month.values})"
   ]
  },
  {
   "cell_type": "code",
   "execution_count": 9,
   "metadata": {
    "vscode": {
     "languageId": "markdown"
    }
   },
   "outputs": [
    {
     "data": {
      "image/png": "[encoded data removed]",
      "text/plain": [
       "<Figure size 360x360 with 1 Axes>"
      ]
     },
     "metadata": {
      "needs_background": "light"
     },
     "output_type": "display_data"
    }
   ],
   "source": [
    "# data visualization\n",
    "# plt.rcParams['font.sans-serif']=['SimHei'] \n",
    "plt.figure(figsize = (5,5))\n",
    "plt.title('Defaulter or not (Yes: 1, No: 0)')\n",
    "sns.set_color_codes(\"pastel\")\n",
    "sns.barplot(x='default.payment.next.month', y=\"values\", data=df)\n",
    "locs, labels = plt.xticks()\n",
    "plt.show()"
   ]
  },
  {
   "cell_type": "markdown",
   "metadata": {},
   "source": [
    "### Feature Engineering"
   ]
  },
  {
   "cell_type": "code",
   "execution_count": 10,
   "metadata": {
    "vscode": {
     "languageId": "markdown"
    }
   },
   "outputs": [],
   "source": [
    "# drop the useless feature 'ID'\n",
    "data.drop(['ID'], inplace=True, axis =1)\n",
    "\n",
    "target = data['default.payment.next.month'].values\n",
    "features = data.columns.tolist()\n",
    "features.remove('default.payment.next.month')\n"
   ]
  },
  {
   "cell_type": "code",
   "execution_count": 11,
   "metadata": {
    "vscode": {
     "languageId": "markdown"
    }
   },
   "outputs": [],
   "source": [
    "dataset = data[features].values"
   ]
  },
  {
   "cell_type": "markdown",
   "metadata": {},
   "source": [
    "### Data Modeling"
   ]
  },
  {
   "cell_type": "code",
   "execution_count": 12,
   "metadata": {
    "vscode": {
     "languageId": "markdown"
    }
   },
   "outputs": [],
   "source": [
    "# split the dataset. 70% for training and 30 for testing\n",
    "train_x, test_x, train_y, test_y = train_test_split(dataset, target, test_size=0.30, stratify = target, random_state = 1)"
   ]
  },
  {
   "cell_type": "code",
   "execution_count": 13,
   "metadata": {
    "vscode": {
     "languageId": "markdown"
    }
   },
   "outputs": [],
   "source": [
    "# select classifiers\n",
    "classifiers = [\n",
    "    SVC(random_state = 1, kernel = 'rbf'),    \n",
    "    DecisionTreeClassifier(random_state = 1, criterion = 'gini'),\n",
    "    RandomForestClassifier(random_state = 1, criterion = 'gini'),\n",
    "    KNeighborsClassifier(metric = 'minkowski'),\n",
    "]\n",
    "\n",
    "# give them names for the sake of display \n",
    "classifier_names = [\n",
    "    'svc', \n",
    "    'decisiontreeclassifier',\n",
    "    'randomforestclassifier',\n",
    "    'kneighborsclassifier',\n",
    "]\n",
    "\n",
    "# initialize the parameters for each classifier\n",
    "classifier_param_grid = [\n",
    "    {'svc__C':[1], 'svc__gamma': [0.01]},\n",
    "    {'decisiontreeclassifier__max_depth': [6, 9, 11]},\n",
    "    {'randomforestclassifier__n_estimators': [3, 5, 6]} ,\n",
    "    {'kneighborsclassifier__n_neighbors': [4, 6, 8]},\n",
    "]"
   ]
  },
  {
   "cell_type": "code",
   "execution_count": 14,
   "metadata": {
    "vscode": {
     "languageId": "markdown"
    }
   },
   "outputs": [],
   "source": [
    "# define my function to do the commom work\n",
    "def my_gridSearchCV(pipeline, train_x, train_y, test_x, test_y, param_grid, score='accuracy'):\n",
    "    result = {\n",
    "        \"training_time\": 0,\n",
    "        \"best_parameter\": {},\n",
    "        \"best_score\": 0,\n",
    "        \"predict_y\": [],\n",
    "        \"accuracy_score\": 0,\n",
    "    }\n",
    "    gridsearch = GridSearchCV(estimator=pipeline, param_grid=param_grid, scoring=score)\n",
    "    \n",
    "    training_start_time = time.time()\n",
    "    print(f'Training is started at Epoch Time in Second: {training_start_time}')\n",
    "    search = gridsearch.fit(train_x, train_y)\n",
    "    training_end_time = time.time()\n",
    "    print(f'Training is ended at Epoch Time in Second: {training_end_time}')\n",
    "\n",
    "    result['training_time'] = training_end_time - training_start_time\n",
    "    result['best_parameter'] = search.best_params_\n",
    "    result['best_score'] = search.best_score_\n",
    "    \n",
    "    predict_y = gridsearch.predict(test_x)\n",
    "    result['predict_y'] = predict_y\n",
    "\n",
    "    test_score = accuracy_score(test_y, predict_y)\n",
    "    result['accuracy_score'] = test_score\n",
    "    \n",
    "    return result"
   ]
  },
  {
   "cell_type": "code",
   "execution_count": 15,
   "metadata": {
    "vscode": {
     "languageId": "markdown"
    }
   },
   "outputs": [],
   "source": [
    "# result list\n",
    "result_list = []"
   ]
  },
  {
   "cell_type": "code",
   "execution_count": 16,
   "metadata": {
    "vscode": {
     "languageId": "markdown"
    }
   },
   "outputs": [
    {
     "name": "stdout",
     "output_type": "stream",
     "text": [
      "Training is started at Epoch Time in Second: 1653230326.5760098\n",
      "Training is ended at Epoch Time in Second: 1653230475.527376\n",
      "Training is started at Epoch Time in Second: 1653230488.5352225\n",
      "Training is ended at Epoch Time in Second: 1653230492.6588774\n",
      "Training is started at Epoch Time in Second: 1653230492.6638732\n",
      "Training is ended at Epoch Time in Second: 1653230497.6652732\n",
      "Training is started at Epoch Time in Second: 1653230497.6872678\n",
      "Training is ended at Epoch Time in Second: 1653230532.1642427\n"
     ]
    }
   ],
   "source": [
    "# use GridSearchCV to look for the best parameters for the given estimator/pipeline\n",
    "for model, model_name, model_param_grid in zip(classifiers, classifier_names, classifier_param_grid):\n",
    "    pipeline = Pipeline([\n",
    "        ('scaler', StandardScaler()),\n",
    "        (model_name, model)\n",
    "    ])\n",
    "    result = my_gridSearchCV(pipeline, train_x, train_y, test_x, test_y, model_param_grid, score='accuracy')\n",
    "    result[\"model_name\"] = model_name\n",
    "    result_list.append(result)"
   ]
  },
  {
   "cell_type": "markdown",
   "metadata": {},
   "source": [
    "### Evaluate Result"
   ]
  },
  {
   "cell_type": "code",
   "execution_count": 17,
   "metadata": {},
   "outputs": [
    {
     "name": "stdout",
     "output_type": "stream",
     "text": [
      "{'accuracy_score': 0.8172222222222222,\n",
      " 'best_parameter': {'svc__C': 1, 'svc__gamma': 0.01},\n",
      " 'best_score': 0.8186190476190477,\n",
      " 'model_name': 'svc',\n",
      " 'predict_y': array([0, 0, 0, ..., 0, 0, 0], dtype=int64),\n",
      " 'training_time': 148.95136618614197}\n",
      "{'accuracy_score': 0.8113333333333334,\n",
      " 'best_parameter': {'decisiontreeclassifier__max_depth': 6},\n",
      " 'best_score': 0.8208095238095238,\n",
      " 'model_name': 'decisiontreeclassifier',\n",
      " 'predict_y': array([0, 0, 0, ..., 0, 0, 0], dtype=int64),\n",
      " 'training_time': 4.123654842376709}\n",
      "{'accuracy_score': 0.7994444444444444,\n",
      " 'best_parameter': {'randomforestclassifier__n_estimators': 6},\n",
      " 'best_score': 0.8004285714285713,\n",
      " 'model_name': 'randomforestclassifier',\n",
      " 'predict_y': array([0, 0, 0, ..., 0, 0, 0], dtype=int64),\n",
      " 'training_time': 5.001399993896484}\n",
      "{'accuracy_score': 0.8035555555555556,\n",
      " 'best_parameter': {'kneighborsclassifier__n_neighbors': 8},\n",
      " 'best_score': 0.803904761904762,\n",
      " 'model_name': 'kneighborsclassifier',\n",
      " 'predict_y': array([0, 0, 0, ..., 0, 0, 0], dtype=int64),\n",
      " 'training_time': 34.476974964141846}\n"
     ]
    }
   ],
   "source": [
    "import pprint\n",
    "\n",
    "\n",
    "for e in result_list:\n",
    "    pprint.pprint(e)    \n"
   ]
  },
  {
   "cell_type": "code",
   "execution_count": 18,
   "metadata": {},
   "outputs": [
    {
     "name": "stdout",
     "output_type": "stream",
     "text": [
      "               model_name  accuracy_score  training_time\n",
      "0                     svc        0.817222     148.951366\n",
      "1  decisiontreeclassifier        0.811333       4.123655\n",
      "2  randomforestclassifier        0.799444       5.001400\n",
      "3    kneighborsclassifier        0.803556      34.476975\n"
     ]
    }
   ],
   "source": [
    "report = pd.DataFrame(result_list, columns=['model_name', 'accuracy_score', 'training_time'])\n",
    "print(report)"
   ]
  },
  {
   "cell_type": "code",
   "execution_count": null,
   "metadata": {},
   "outputs": [],
   "source": []
  }
 ],
 "metadata": {
  "interpreter": {
   "hash": "254a36b2ded2ec0052557e1072ee5d46a42183376817ac4da89ec7f3b2df0eb5"
  },
  "kernelspec": {
   "display_name": "Python 3.8.8 ('base')",
   "language": "python",
   "name": "python3"
  },
  "language_info": {
   "codemirror_mode": {
    "name": "ipython",
    "version": 3
   },
   "file_extension": ".py",
   "mimetype": "text/x-python",
   "name": "python",
   "nbconvert_exporter": "python",
   "pygments_lexer": "ipython3",
   "version": "3.8.8"
  },
  "orig_nbformat": 4
 },
 "nbformat": 4,
 "nbformat_minor": 2
}

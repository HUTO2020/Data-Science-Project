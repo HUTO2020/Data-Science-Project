{
 "cells": [
  {
   "cell_type": "markdown",
   "metadata": {},
   "source": [
    "# Credit Fraud Classification"
   ]
  },
  {
   "cell_type": "markdown",
   "metadata": {},
   "source": [
    "### 1. Introduction\n",
    "\n"
   ]
  },
  {
   "cell_type": "markdown",
   "metadata": {},
   "source": [
    "> ### Context\n",
    "> It is important that credit card companies are able to recognize fraudulent credit card transactions so that customers are not charged for items that they did not purchase.\n",
    "> \n",
    "> ### Content\n",
    "> \n",
    "> The datasetset contains transactions made by credit cards in September 2013 by European cardholders.\n",
    "> This dataset presents transactions that occurred in two days, where we have 492 frauds out of 284,807 transactions. The dataset is highly unbalanced, the positive class (frauds) account for 0.172% of all transactions.\n",
    "> \n",
    "> It contains only numerical input variables which are the result of a PCA transformation. Unfortunately, due to confidentiality issues, we cannot provide the original features and more background information about the data. Features V1, V2, … V28 are the principal components obtained with PCA, the only features which have not been transformed with PCA are 'Time' and 'Amount'. Feature 'Time' contains the seconds elapsed between each transaction and the first transaction in the dataset. The feature 'Amount' is the transaction Amount, this feature can be used for example-dependant cost-sensitive learning. Feature 'Class' is the response variable and it takes value 1 in case of fraud and 0 otherwise.\n",
    "> \n",
    "> Given the class imbalance ratio, we recommend measuring the accuracy using the Area Under the Precision-Recall Curve (AUPRC). Confusion matrix accuracy is not meaningful for unbalanced classification."
   ]
  },
  {
   "cell_type": "markdown",
   "metadata": {},
   "source": [
    "### 2. Dataset"
   ]
  },
  {
   "cell_type": "markdown",
   "metadata": {},
   "source": [
    "Dataset: https://www.kaggle.com/code/gollasivakrishna/credit-card-fraud-detection/data"
   ]
  },
  {
   "cell_type": "code",
   "execution_count": 1,
   "metadata": {},
   "outputs": [],
   "source": [
    "import os\n",
    "import time\n",
    "import pprint\n",
    "import numpy as np\n",
    "import pandas as pd\n",
    "from matplotlib import pyplot as plt\n",
    "import seaborn as sns\n",
    "import itertools\n",
    "from sklearn.model_selection import train_test_split, GridSearchCV\n",
    "from sklearn.pipeline import Pipeline\n",
    "from sklearn.preprocessing import StandardScaler\n",
    "from sklearn.metrics import accuracy_score, confusion_matrix, precision_recall_curve, classification_report, roc_curve, roc_auc_score\n",
    "from sklearn.linear_model import LogisticRegression\n"
   ]
  },
  {
   "cell_type": "code",
   "execution_count": 2,
   "metadata": {
    "vscode": {
     "languageId": "markdown"
    }
   },
   "outputs": [],
   "source": [
    "# load data\n",
    "dataset = pd.read_csv('./credit_fraud.csv')"
   ]
  },
  {
   "cell_type": "markdown",
   "metadata": {},
   "source": [
    "### 3. Data preprocessing"
   ]
  },
  {
   "cell_type": "code",
   "execution_count": 3,
   "metadata": {
    "vscode": {
     "languageId": "markdown"
    }
   },
   "outputs": [
    {
     "data": {
      "text/html": [
       "<div>\n",
       "<style scoped>\n",
       "    .dataframe tbody tr th:only-of-type {\n",
       "        vertical-align: middle;\n",
       "    }\n",
       "\n",
       "    .dataframe tbody tr th {\n",
       "        vertical-align: top;\n",
       "    }\n",
       "\n",
       "    .dataframe thead th {\n",
       "        text-align: right;\n",
       "    }\n",
       "</style>\n",
       "<table border=\"1\" class=\"dataframe\">\n",
       "  <thead>\n",
       "    <tr style=\"text-align: right;\">\n",
       "      <th></th>\n",
       "      <th>Time</th>\n",
       "      <th>V1</th>\n",
       "      <th>V2</th>\n",
       "      <th>V3</th>\n",
       "      <th>V4</th>\n",
       "      <th>V5</th>\n",
       "      <th>V6</th>\n",
       "      <th>V7</th>\n",
       "      <th>V8</th>\n",
       "      <th>V9</th>\n",
       "      <th>...</th>\n",
       "      <th>V21</th>\n",
       "      <th>V22</th>\n",
       "      <th>V23</th>\n",
       "      <th>V24</th>\n",
       "      <th>V25</th>\n",
       "      <th>V26</th>\n",
       "      <th>V27</th>\n",
       "      <th>V28</th>\n",
       "      <th>Amount</th>\n",
       "      <th>Class</th>\n",
       "    </tr>\n",
       "  </thead>\n",
       "  <tbody>\n",
       "    <tr>\n",
       "      <th>8689</th>\n",
       "      <td>11779.0</td>\n",
       "      <td>-1.322735</td>\n",
       "      <td>-0.527584</td>\n",
       "      <td>1.613915</td>\n",
       "      <td>-1.690692</td>\n",
       "      <td>-1.791939</td>\n",
       "      <td>1.119810</td>\n",
       "      <td>2.844867</td>\n",
       "      <td>-0.884837</td>\n",
       "      <td>2.556572</td>\n",
       "      <td>...</td>\n",
       "      <td>-0.122660</td>\n",
       "      <td>0.540556</td>\n",
       "      <td>-0.044576</td>\n",
       "      <td>-0.447218</td>\n",
       "      <td>0.835269</td>\n",
       "      <td>-0.664120</td>\n",
       "      <td>-0.148783</td>\n",
       "      <td>-0.496638</td>\n",
       "      <td>567.00</td>\n",
       "      <td>0</td>\n",
       "    </tr>\n",
       "    <tr>\n",
       "      <th>225631</th>\n",
       "      <td>144329.0</td>\n",
       "      <td>2.050358</td>\n",
       "      <td>0.143017</td>\n",
       "      <td>-2.083149</td>\n",
       "      <td>0.382479</td>\n",
       "      <td>0.577863</td>\n",
       "      <td>-1.006239</td>\n",
       "      <td>0.303912</td>\n",
       "      <td>-0.345488</td>\n",
       "      <td>0.591372</td>\n",
       "      <td>...</td>\n",
       "      <td>0.165058</td>\n",
       "      <td>0.619024</td>\n",
       "      <td>-0.136122</td>\n",
       "      <td>-0.838759</td>\n",
       "      <td>0.339770</td>\n",
       "      <td>-0.054870</td>\n",
       "      <td>-0.002064</td>\n",
       "      <td>-0.031902</td>\n",
       "      <td>29.88</td>\n",
       "      <td>0</td>\n",
       "    </tr>\n",
       "    <tr>\n",
       "      <th>215062</th>\n",
       "      <td>139920.0</td>\n",
       "      <td>1.875225</td>\n",
       "      <td>-1.719242</td>\n",
       "      <td>-0.015737</td>\n",
       "      <td>-0.793032</td>\n",
       "      <td>-1.387081</td>\n",
       "      <td>1.069756</td>\n",
       "      <td>-1.617781</td>\n",
       "      <td>0.369319</td>\n",
       "      <td>0.730638</td>\n",
       "      <td>...</td>\n",
       "      <td>-0.389476</td>\n",
       "      <td>-0.476843</td>\n",
       "      <td>0.271006</td>\n",
       "      <td>0.291601</td>\n",
       "      <td>-0.695808</td>\n",
       "      <td>1.127283</td>\n",
       "      <td>-0.027756</td>\n",
       "      <td>-0.034461</td>\n",
       "      <td>104.90</td>\n",
       "      <td>0</td>\n",
       "    </tr>\n",
       "    <tr>\n",
       "      <th>163339</th>\n",
       "      <td>115858.0</td>\n",
       "      <td>1.959458</td>\n",
       "      <td>-1.264153</td>\n",
       "      <td>-1.830607</td>\n",
       "      <td>-1.123144</td>\n",
       "      <td>-0.229221</td>\n",
       "      <td>-0.259064</td>\n",
       "      <td>-0.375001</td>\n",
       "      <td>-0.141392</td>\n",
       "      <td>-0.659856</td>\n",
       "      <td>...</td>\n",
       "      <td>0.531301</td>\n",
       "      <td>1.138711</td>\n",
       "      <td>-0.187535</td>\n",
       "      <td>0.145347</td>\n",
       "      <td>0.193777</td>\n",
       "      <td>0.047811</td>\n",
       "      <td>-0.075423</td>\n",
       "      <td>-0.050417</td>\n",
       "      <td>155.85</td>\n",
       "      <td>0</td>\n",
       "    </tr>\n",
       "    <tr>\n",
       "      <th>271136</th>\n",
       "      <td>164426.0</td>\n",
       "      <td>1.537321</td>\n",
       "      <td>-0.711591</td>\n",
       "      <td>-2.744636</td>\n",
       "      <td>0.702832</td>\n",
       "      <td>0.551092</td>\n",
       "      <td>-0.361732</td>\n",
       "      <td>0.431232</td>\n",
       "      <td>-0.080935</td>\n",
       "      <td>0.866963</td>\n",
       "      <td>...</td>\n",
       "      <td>-0.042106</td>\n",
       "      <td>-0.508500</td>\n",
       "      <td>-0.285446</td>\n",
       "      <td>-1.351258</td>\n",
       "      <td>0.137422</td>\n",
       "      <td>-0.263887</td>\n",
       "      <td>-0.044794</td>\n",
       "      <td>0.011700</td>\n",
       "      <td>269.51</td>\n",
       "      <td>0</td>\n",
       "    </tr>\n",
       "    <tr>\n",
       "      <th>200081</th>\n",
       "      <td>133275.0</td>\n",
       "      <td>2.060703</td>\n",
       "      <td>-0.111969</td>\n",
       "      <td>-1.078747</td>\n",
       "      <td>0.426953</td>\n",
       "      <td>-0.224233</td>\n",
       "      <td>-1.239221</td>\n",
       "      <td>0.127565</td>\n",
       "      <td>-0.287425</td>\n",
       "      <td>0.669409</td>\n",
       "      <td>...</td>\n",
       "      <td>-0.298327</td>\n",
       "      <td>-0.767055</td>\n",
       "      <td>0.351342</td>\n",
       "      <td>0.023082</td>\n",
       "      <td>-0.328359</td>\n",
       "      <td>0.198207</td>\n",
       "      <td>-0.076305</td>\n",
       "      <td>-0.061637</td>\n",
       "      <td>1.98</td>\n",
       "      <td>0</td>\n",
       "    </tr>\n",
       "    <tr>\n",
       "      <th>273609</th>\n",
       "      <td>165631.0</td>\n",
       "      <td>1.223505</td>\n",
       "      <td>-1.696564</td>\n",
       "      <td>-2.984778</td>\n",
       "      <td>-0.531237</td>\n",
       "      <td>0.113736</td>\n",
       "      <td>-1.320710</td>\n",
       "      <td>1.344952</td>\n",
       "      <td>-0.671827</td>\n",
       "      <td>0.429753</td>\n",
       "      <td>...</td>\n",
       "      <td>0.408328</td>\n",
       "      <td>0.141535</td>\n",
       "      <td>-0.449911</td>\n",
       "      <td>0.694682</td>\n",
       "      <td>0.169151</td>\n",
       "      <td>0.774915</td>\n",
       "      <td>-0.233647</td>\n",
       "      <td>0.003014</td>\n",
       "      <td>507.40</td>\n",
       "      <td>0</td>\n",
       "    </tr>\n",
       "    <tr>\n",
       "      <th>264394</th>\n",
       "      <td>161407.0</td>\n",
       "      <td>2.050320</td>\n",
       "      <td>-0.027572</td>\n",
       "      <td>-1.445749</td>\n",
       "      <td>0.146226</td>\n",
       "      <td>0.296519</td>\n",
       "      <td>-0.718506</td>\n",
       "      <td>0.171461</td>\n",
       "      <td>-0.240665</td>\n",
       "      <td>0.276600</td>\n",
       "      <td>...</td>\n",
       "      <td>0.283110</td>\n",
       "      <td>0.985036</td>\n",
       "      <td>-0.062169</td>\n",
       "      <td>-0.413120</td>\n",
       "      <td>0.295521</td>\n",
       "      <td>-0.100167</td>\n",
       "      <td>-0.017074</td>\n",
       "      <td>-0.072161</td>\n",
       "      <td>1.79</td>\n",
       "      <td>0</td>\n",
       "    </tr>\n",
       "    <tr>\n",
       "      <th>206259</th>\n",
       "      <td>136140.0</td>\n",
       "      <td>-5.683415</td>\n",
       "      <td>-9.018860</td>\n",
       "      <td>-2.812787</td>\n",
       "      <td>1.039836</td>\n",
       "      <td>1.535705</td>\n",
       "      <td>-2.959472</td>\n",
       "      <td>-0.016917</td>\n",
       "      <td>0.305489</td>\n",
       "      <td>-1.404989</td>\n",
       "      <td>...</td>\n",
       "      <td>1.728286</td>\n",
       "      <td>0.995694</td>\n",
       "      <td>2.302422</td>\n",
       "      <td>-0.014861</td>\n",
       "      <td>-1.565299</td>\n",
       "      <td>-0.355263</td>\n",
       "      <td>0.024759</td>\n",
       "      <td>-0.663286</td>\n",
       "      <td>914.24</td>\n",
       "      <td>0</td>\n",
       "    </tr>\n",
       "    <tr>\n",
       "      <th>89863</th>\n",
       "      <td>62759.0</td>\n",
       "      <td>-1.967508</td>\n",
       "      <td>2.205106</td>\n",
       "      <td>-2.667060</td>\n",
       "      <td>0.124250</td>\n",
       "      <td>1.724592</td>\n",
       "      <td>3.506045</td>\n",
       "      <td>-2.055326</td>\n",
       "      <td>-0.517733</td>\n",
       "      <td>-1.200572</td>\n",
       "      <td>...</td>\n",
       "      <td>-1.173093</td>\n",
       "      <td>0.264900</td>\n",
       "      <td>0.284481</td>\n",
       "      <td>0.859094</td>\n",
       "      <td>0.060386</td>\n",
       "      <td>-0.326067</td>\n",
       "      <td>-0.260437</td>\n",
       "      <td>-0.141288</td>\n",
       "      <td>1.00</td>\n",
       "      <td>0</td>\n",
       "    </tr>\n",
       "  </tbody>\n",
       "</table>\n",
       "<p>10 rows × 31 columns</p>\n",
       "</div>"
      ],
      "text/plain": [
       "            Time        V1        V2        V3        V4        V5        V6  \\\n",
       "8689     11779.0 -1.322735 -0.527584  1.613915 -1.690692 -1.791939  1.119810   \n",
       "225631  144329.0  2.050358  0.143017 -2.083149  0.382479  0.577863 -1.006239   \n",
       "215062  139920.0  1.875225 -1.719242 -0.015737 -0.793032 -1.387081  1.069756   \n",
       "163339  115858.0  1.959458 -1.264153 -1.830607 -1.123144 -0.229221 -0.259064   \n",
       "271136  164426.0  1.537321 -0.711591 -2.744636  0.702832  0.551092 -0.361732   \n",
       "200081  133275.0  2.060703 -0.111969 -1.078747  0.426953 -0.224233 -1.239221   \n",
       "273609  165631.0  1.223505 -1.696564 -2.984778 -0.531237  0.113736 -1.320710   \n",
       "264394  161407.0  2.050320 -0.027572 -1.445749  0.146226  0.296519 -0.718506   \n",
       "206259  136140.0 -5.683415 -9.018860 -2.812787  1.039836  1.535705 -2.959472   \n",
       "89863    62759.0 -1.967508  2.205106 -2.667060  0.124250  1.724592  3.506045   \n",
       "\n",
       "              V7        V8        V9  ...       V21       V22       V23  \\\n",
       "8689    2.844867 -0.884837  2.556572  ... -0.122660  0.540556 -0.044576   \n",
       "225631  0.303912 -0.345488  0.591372  ...  0.165058  0.619024 -0.136122   \n",
       "215062 -1.617781  0.369319  0.730638  ... -0.389476 -0.476843  0.271006   \n",
       "163339 -0.375001 -0.141392 -0.659856  ...  0.531301  1.138711 -0.187535   \n",
       "271136  0.431232 -0.080935  0.866963  ... -0.042106 -0.508500 -0.285446   \n",
       "200081  0.127565 -0.287425  0.669409  ... -0.298327 -0.767055  0.351342   \n",
       "273609  1.344952 -0.671827  0.429753  ...  0.408328  0.141535 -0.449911   \n",
       "264394  0.171461 -0.240665  0.276600  ...  0.283110  0.985036 -0.062169   \n",
       "206259 -0.016917  0.305489 -1.404989  ...  1.728286  0.995694  2.302422   \n",
       "89863  -2.055326 -0.517733 -1.200572  ... -1.173093  0.264900  0.284481   \n",
       "\n",
       "             V24       V25       V26       V27       V28  Amount  Class  \n",
       "8689   -0.447218  0.835269 -0.664120 -0.148783 -0.496638  567.00      0  \n",
       "225631 -0.838759  0.339770 -0.054870 -0.002064 -0.031902   29.88      0  \n",
       "215062  0.291601 -0.695808  1.127283 -0.027756 -0.034461  104.90      0  \n",
       "163339  0.145347  0.193777  0.047811 -0.075423 -0.050417  155.85      0  \n",
       "271136 -1.351258  0.137422 -0.263887 -0.044794  0.011700  269.51      0  \n",
       "200081  0.023082 -0.328359  0.198207 -0.076305 -0.061637    1.98      0  \n",
       "273609  0.694682  0.169151  0.774915 -0.233647  0.003014  507.40      0  \n",
       "264394 -0.413120  0.295521 -0.100167 -0.017074 -0.072161    1.79      0  \n",
       "206259 -0.014861 -1.565299 -0.355263  0.024759 -0.663286  914.24      0  \n",
       "89863   0.859094  0.060386 -0.326067 -0.260437 -0.141288    1.00      0  \n",
       "\n",
       "[10 rows x 31 columns]"
      ]
     },
     "execution_count": 3,
     "metadata": {},
     "output_type": "execute_result"
    }
   ],
   "source": [
    "dataset.sample(10)"
   ]
  },
  {
   "cell_type": "code",
   "execution_count": 4,
   "metadata": {
    "vscode": {
     "languageId": "markdown"
    }
   },
   "outputs": [
    {
     "name": "stdout",
     "output_type": "stream",
     "text": [
      "<class 'pandas.core.frame.DataFrame'>\n",
      "RangeIndex: 284807 entries, 0 to 284806\n",
      "Data columns (total 31 columns):\n",
      " #   Column  Non-Null Count   Dtype  \n",
      "---  ------  --------------   -----  \n",
      " 0   Time    284807 non-null  float64\n",
      " 1   V1      284807 non-null  float64\n",
      " 2   V2      284807 non-null  float64\n",
      " 3   V3      284807 non-null  float64\n",
      " 4   V4      284807 non-null  float64\n",
      " 5   V5      284807 non-null  float64\n",
      " 6   V6      284807 non-null  float64\n",
      " 7   V7      284807 non-null  float64\n",
      " 8   V8      284807 non-null  float64\n",
      " 9   V9      284807 non-null  float64\n",
      " 10  V10     284807 non-null  float64\n",
      " 11  V11     284807 non-null  float64\n",
      " 12  V12     284807 non-null  float64\n",
      " 13  V13     284807 non-null  float64\n",
      " 14  V14     284807 non-null  float64\n",
      " 15  V15     284807 non-null  float64\n",
      " 16  V16     284807 non-null  float64\n",
      " 17  V17     284807 non-null  float64\n",
      " 18  V18     284807 non-null  float64\n",
      " 19  V19     284807 non-null  float64\n",
      " 20  V20     284807 non-null  float64\n",
      " 21  V21     284807 non-null  float64\n",
      " 22  V22     284807 non-null  float64\n",
      " 23  V23     284807 non-null  float64\n",
      " 24  V24     284807 non-null  float64\n",
      " 25  V25     284807 non-null  float64\n",
      " 26  V26     284807 non-null  float64\n",
      " 27  V27     284807 non-null  float64\n",
      " 28  V28     284807 non-null  float64\n",
      " 29  Amount  284807 non-null  float64\n",
      " 30  Class   284807 non-null  int64  \n",
      "dtypes: float64(30), int64(1)\n",
      "memory usage: 67.4 MB\n"
     ]
    }
   ],
   "source": [
    "dataset.info()"
   ]
  },
  {
   "cell_type": "code",
   "execution_count": 5,
   "metadata": {
    "vscode": {
     "languageId": "markdown"
    }
   },
   "outputs": [
    {
     "data": {
      "text/html": [
       "<div>\n",
       "<style scoped>\n",
       "    .dataframe tbody tr th:only-of-type {\n",
       "        vertical-align: middle;\n",
       "    }\n",
       "\n",
       "    .dataframe tbody tr th {\n",
       "        vertical-align: top;\n",
       "    }\n",
       "\n",
       "    .dataframe thead th {\n",
       "        text-align: right;\n",
       "    }\n",
       "</style>\n",
       "<table border=\"1\" class=\"dataframe\">\n",
       "  <thead>\n",
       "    <tr style=\"text-align: right;\">\n",
       "      <th></th>\n",
       "      <th>Time</th>\n",
       "      <th>V1</th>\n",
       "      <th>V2</th>\n",
       "      <th>V3</th>\n",
       "      <th>V4</th>\n",
       "      <th>V5</th>\n",
       "      <th>V6</th>\n",
       "      <th>V7</th>\n",
       "      <th>V8</th>\n",
       "      <th>V9</th>\n",
       "      <th>...</th>\n",
       "      <th>V21</th>\n",
       "      <th>V22</th>\n",
       "      <th>V23</th>\n",
       "      <th>V24</th>\n",
       "      <th>V25</th>\n",
       "      <th>V26</th>\n",
       "      <th>V27</th>\n",
       "      <th>V28</th>\n",
       "      <th>Amount</th>\n",
       "      <th>Class</th>\n",
       "    </tr>\n",
       "  </thead>\n",
       "  <tbody>\n",
       "    <tr>\n",
       "      <th>count</th>\n",
       "      <td>284807.000000</td>\n",
       "      <td>2.848070e+05</td>\n",
       "      <td>2.848070e+05</td>\n",
       "      <td>2.848070e+05</td>\n",
       "      <td>2.848070e+05</td>\n",
       "      <td>2.848070e+05</td>\n",
       "      <td>2.848070e+05</td>\n",
       "      <td>2.848070e+05</td>\n",
       "      <td>2.848070e+05</td>\n",
       "      <td>2.848070e+05</td>\n",
       "      <td>...</td>\n",
       "      <td>2.848070e+05</td>\n",
       "      <td>2.848070e+05</td>\n",
       "      <td>2.848070e+05</td>\n",
       "      <td>2.848070e+05</td>\n",
       "      <td>2.848070e+05</td>\n",
       "      <td>2.848070e+05</td>\n",
       "      <td>2.848070e+05</td>\n",
       "      <td>2.848070e+05</td>\n",
       "      <td>284807.000000</td>\n",
       "      <td>284807.000000</td>\n",
       "    </tr>\n",
       "    <tr>\n",
       "      <th>mean</th>\n",
       "      <td>94813.859575</td>\n",
       "      <td>3.918649e-15</td>\n",
       "      <td>5.682686e-16</td>\n",
       "      <td>-8.761736e-15</td>\n",
       "      <td>2.811118e-15</td>\n",
       "      <td>-1.552103e-15</td>\n",
       "      <td>2.040130e-15</td>\n",
       "      <td>-1.698953e-15</td>\n",
       "      <td>-1.893285e-16</td>\n",
       "      <td>-3.147640e-15</td>\n",
       "      <td>...</td>\n",
       "      <td>1.473120e-16</td>\n",
       "      <td>8.042109e-16</td>\n",
       "      <td>5.282512e-16</td>\n",
       "      <td>4.456271e-15</td>\n",
       "      <td>1.426896e-15</td>\n",
       "      <td>1.701640e-15</td>\n",
       "      <td>-3.662252e-16</td>\n",
       "      <td>-1.217809e-16</td>\n",
       "      <td>88.349619</td>\n",
       "      <td>0.001727</td>\n",
       "    </tr>\n",
       "    <tr>\n",
       "      <th>std</th>\n",
       "      <td>47488.145955</td>\n",
       "      <td>1.958696e+00</td>\n",
       "      <td>1.651309e+00</td>\n",
       "      <td>1.516255e+00</td>\n",
       "      <td>1.415869e+00</td>\n",
       "      <td>1.380247e+00</td>\n",
       "      <td>1.332271e+00</td>\n",
       "      <td>1.237094e+00</td>\n",
       "      <td>1.194353e+00</td>\n",
       "      <td>1.098632e+00</td>\n",
       "      <td>...</td>\n",
       "      <td>7.345240e-01</td>\n",
       "      <td>7.257016e-01</td>\n",
       "      <td>6.244603e-01</td>\n",
       "      <td>6.056471e-01</td>\n",
       "      <td>5.212781e-01</td>\n",
       "      <td>4.822270e-01</td>\n",
       "      <td>4.036325e-01</td>\n",
       "      <td>3.300833e-01</td>\n",
       "      <td>250.120109</td>\n",
       "      <td>0.041527</td>\n",
       "    </tr>\n",
       "    <tr>\n",
       "      <th>min</th>\n",
       "      <td>0.000000</td>\n",
       "      <td>-5.640751e+01</td>\n",
       "      <td>-7.271573e+01</td>\n",
       "      <td>-4.832559e+01</td>\n",
       "      <td>-5.683171e+00</td>\n",
       "      <td>-1.137433e+02</td>\n",
       "      <td>-2.616051e+01</td>\n",
       "      <td>-4.355724e+01</td>\n",
       "      <td>-7.321672e+01</td>\n",
       "      <td>-1.343407e+01</td>\n",
       "      <td>...</td>\n",
       "      <td>-3.483038e+01</td>\n",
       "      <td>-1.093314e+01</td>\n",
       "      <td>-4.480774e+01</td>\n",
       "      <td>-2.836627e+00</td>\n",
       "      <td>-1.029540e+01</td>\n",
       "      <td>-2.604551e+00</td>\n",
       "      <td>-2.256568e+01</td>\n",
       "      <td>-1.543008e+01</td>\n",
       "      <td>0.000000</td>\n",
       "      <td>0.000000</td>\n",
       "    </tr>\n",
       "    <tr>\n",
       "      <th>25%</th>\n",
       "      <td>54201.500000</td>\n",
       "      <td>-9.203734e-01</td>\n",
       "      <td>-5.985499e-01</td>\n",
       "      <td>-8.903648e-01</td>\n",
       "      <td>-8.486401e-01</td>\n",
       "      <td>-6.915971e-01</td>\n",
       "      <td>-7.682956e-01</td>\n",
       "      <td>-5.540759e-01</td>\n",
       "      <td>-2.086297e-01</td>\n",
       "      <td>-6.430976e-01</td>\n",
       "      <td>...</td>\n",
       "      <td>-2.283949e-01</td>\n",
       "      <td>-5.423504e-01</td>\n",
       "      <td>-1.618463e-01</td>\n",
       "      <td>-3.545861e-01</td>\n",
       "      <td>-3.171451e-01</td>\n",
       "      <td>-3.269839e-01</td>\n",
       "      <td>-7.083953e-02</td>\n",
       "      <td>-5.295979e-02</td>\n",
       "      <td>5.600000</td>\n",
       "      <td>0.000000</td>\n",
       "    </tr>\n",
       "    <tr>\n",
       "      <th>50%</th>\n",
       "      <td>84692.000000</td>\n",
       "      <td>1.810880e-02</td>\n",
       "      <td>6.548556e-02</td>\n",
       "      <td>1.798463e-01</td>\n",
       "      <td>-1.984653e-02</td>\n",
       "      <td>-5.433583e-02</td>\n",
       "      <td>-2.741871e-01</td>\n",
       "      <td>4.010308e-02</td>\n",
       "      <td>2.235804e-02</td>\n",
       "      <td>-5.142873e-02</td>\n",
       "      <td>...</td>\n",
       "      <td>-2.945017e-02</td>\n",
       "      <td>6.781943e-03</td>\n",
       "      <td>-1.119293e-02</td>\n",
       "      <td>4.097606e-02</td>\n",
       "      <td>1.659350e-02</td>\n",
       "      <td>-5.213911e-02</td>\n",
       "      <td>1.342146e-03</td>\n",
       "      <td>1.124383e-02</td>\n",
       "      <td>22.000000</td>\n",
       "      <td>0.000000</td>\n",
       "    </tr>\n",
       "    <tr>\n",
       "      <th>75%</th>\n",
       "      <td>139320.500000</td>\n",
       "      <td>1.315642e+00</td>\n",
       "      <td>8.037239e-01</td>\n",
       "      <td>1.027196e+00</td>\n",
       "      <td>7.433413e-01</td>\n",
       "      <td>6.119264e-01</td>\n",
       "      <td>3.985649e-01</td>\n",
       "      <td>5.704361e-01</td>\n",
       "      <td>3.273459e-01</td>\n",
       "      <td>5.971390e-01</td>\n",
       "      <td>...</td>\n",
       "      <td>1.863772e-01</td>\n",
       "      <td>5.285536e-01</td>\n",
       "      <td>1.476421e-01</td>\n",
       "      <td>4.395266e-01</td>\n",
       "      <td>3.507156e-01</td>\n",
       "      <td>2.409522e-01</td>\n",
       "      <td>9.104512e-02</td>\n",
       "      <td>7.827995e-02</td>\n",
       "      <td>77.165000</td>\n",
       "      <td>0.000000</td>\n",
       "    </tr>\n",
       "    <tr>\n",
       "      <th>max</th>\n",
       "      <td>172792.000000</td>\n",
       "      <td>2.454930e+00</td>\n",
       "      <td>2.205773e+01</td>\n",
       "      <td>9.382558e+00</td>\n",
       "      <td>1.687534e+01</td>\n",
       "      <td>3.480167e+01</td>\n",
       "      <td>7.330163e+01</td>\n",
       "      <td>1.205895e+02</td>\n",
       "      <td>2.000721e+01</td>\n",
       "      <td>1.559499e+01</td>\n",
       "      <td>...</td>\n",
       "      <td>2.720284e+01</td>\n",
       "      <td>1.050309e+01</td>\n",
       "      <td>2.252841e+01</td>\n",
       "      <td>4.584549e+00</td>\n",
       "      <td>7.519589e+00</td>\n",
       "      <td>3.517346e+00</td>\n",
       "      <td>3.161220e+01</td>\n",
       "      <td>3.384781e+01</td>\n",
       "      <td>25691.160000</td>\n",
       "      <td>1.000000</td>\n",
       "    </tr>\n",
       "  </tbody>\n",
       "</table>\n",
       "<p>8 rows × 31 columns</p>\n",
       "</div>"
      ],
      "text/plain": [
       "                Time            V1            V2            V3            V4  \\\n",
       "count  284807.000000  2.848070e+05  2.848070e+05  2.848070e+05  2.848070e+05   \n",
       "mean    94813.859575  3.918649e-15  5.682686e-16 -8.761736e-15  2.811118e-15   \n",
       "std     47488.145955  1.958696e+00  1.651309e+00  1.516255e+00  1.415869e+00   \n",
       "min         0.000000 -5.640751e+01 -7.271573e+01 -4.832559e+01 -5.683171e+00   \n",
       "25%     54201.500000 -9.203734e-01 -5.985499e-01 -8.903648e-01 -8.486401e-01   \n",
       "50%     84692.000000  1.810880e-02  6.548556e-02  1.798463e-01 -1.984653e-02   \n",
       "75%    139320.500000  1.315642e+00  8.037239e-01  1.027196e+00  7.433413e-01   \n",
       "max    172792.000000  2.454930e+00  2.205773e+01  9.382558e+00  1.687534e+01   \n",
       "\n",
       "                 V5            V6            V7            V8            V9  \\\n",
       "count  2.848070e+05  2.848070e+05  2.848070e+05  2.848070e+05  2.848070e+05   \n",
       "mean  -1.552103e-15  2.040130e-15 -1.698953e-15 -1.893285e-16 -3.147640e-15   \n",
       "std    1.380247e+00  1.332271e+00  1.237094e+00  1.194353e+00  1.098632e+00   \n",
       "min   -1.137433e+02 -2.616051e+01 -4.355724e+01 -7.321672e+01 -1.343407e+01   \n",
       "25%   -6.915971e-01 -7.682956e-01 -5.540759e-01 -2.086297e-01 -6.430976e-01   \n",
       "50%   -5.433583e-02 -2.741871e-01  4.010308e-02  2.235804e-02 -5.142873e-02   \n",
       "75%    6.119264e-01  3.985649e-01  5.704361e-01  3.273459e-01  5.971390e-01   \n",
       "max    3.480167e+01  7.330163e+01  1.205895e+02  2.000721e+01  1.559499e+01   \n",
       "\n",
       "       ...           V21           V22           V23           V24  \\\n",
       "count  ...  2.848070e+05  2.848070e+05  2.848070e+05  2.848070e+05   \n",
       "mean   ...  1.473120e-16  8.042109e-16  5.282512e-16  4.456271e-15   \n",
       "std    ...  7.345240e-01  7.257016e-01  6.244603e-01  6.056471e-01   \n",
       "min    ... -3.483038e+01 -1.093314e+01 -4.480774e+01 -2.836627e+00   \n",
       "25%    ... -2.283949e-01 -5.423504e-01 -1.618463e-01 -3.545861e-01   \n",
       "50%    ... -2.945017e-02  6.781943e-03 -1.119293e-02  4.097606e-02   \n",
       "75%    ...  1.863772e-01  5.285536e-01  1.476421e-01  4.395266e-01   \n",
       "max    ...  2.720284e+01  1.050309e+01  2.252841e+01  4.584549e+00   \n",
       "\n",
       "                V25           V26           V27           V28         Amount  \\\n",
       "count  2.848070e+05  2.848070e+05  2.848070e+05  2.848070e+05  284807.000000   \n",
       "mean   1.426896e-15  1.701640e-15 -3.662252e-16 -1.217809e-16      88.349619   \n",
       "std    5.212781e-01  4.822270e-01  4.036325e-01  3.300833e-01     250.120109   \n",
       "min   -1.029540e+01 -2.604551e+00 -2.256568e+01 -1.543008e+01       0.000000   \n",
       "25%   -3.171451e-01 -3.269839e-01 -7.083953e-02 -5.295979e-02       5.600000   \n",
       "50%    1.659350e-02 -5.213911e-02  1.342146e-03  1.124383e-02      22.000000   \n",
       "75%    3.507156e-01  2.409522e-01  9.104512e-02  7.827995e-02      77.165000   \n",
       "max    7.519589e+00  3.517346e+00  3.161220e+01  3.384781e+01   25691.160000   \n",
       "\n",
       "               Class  \n",
       "count  284807.000000  \n",
       "mean        0.001727  \n",
       "std         0.041527  \n",
       "min         0.000000  \n",
       "25%         0.000000  \n",
       "50%         0.000000  \n",
       "75%         0.000000  \n",
       "max         1.000000  \n",
       "\n",
       "[8 rows x 31 columns]"
      ]
     },
     "execution_count": 5,
     "metadata": {},
     "output_type": "execute_result"
    }
   ],
   "source": [
    "dataset.describe()"
   ]
  },
  {
   "cell_type": "code",
   "execution_count": 6,
   "metadata": {
    "vscode": {
     "languageId": "markdown"
    }
   },
   "outputs": [],
   "source": [
    "# dataset.dropna(inplace=True)"
   ]
  },
  {
   "cell_type": "code",
   "execution_count": 7,
   "metadata": {
    "vscode": {
     "languageId": "markdown"
    }
   },
   "outputs": [],
   "source": [
    "# d = dataset.convert_dtypes()"
   ]
  },
  {
   "cell_type": "markdown",
   "metadata": {},
   "source": [
    "### 4. Data EDA"
   ]
  },
  {
   "cell_type": "markdown",
   "metadata": {},
   "source": [
    "##### Dataset Balance"
   ]
  },
  {
   "cell_type": "code",
   "execution_count": 8,
   "metadata": {
    "vscode": {
     "languageId": "markdown"
    }
   },
   "outputs": [],
   "source": [
    "value_counts = dataset['Class'].value_counts().sort_index()\n",
    "pie_data =  value_counts.values\n",
    "pie_labels = value_counts.index"
   ]
  },
  {
   "cell_type": "code",
   "execution_count": 9,
   "metadata": {},
   "outputs": [
    {
     "data": {
      "image/png": "[encoded data removed]",
      "text/plain": [
       "<Figure size 360x360 with 1 Axes>"
      ]
     },
     "metadata": {},
     "output_type": "display_data"
    }
   ],
   "source": [
    "plt.figure(figsize = (5,5))\n",
    "plt.title('Dataset Balance {Positive: 1, Negative: 0}')\n",
    "plt.pie(pie_data, labels=pie_labels, autopct = '%0.0f%%', wedgeprops=dict(width=0.5))\n",
    "plt.show()"
   ]
  },
  {
   "cell_type": "code",
   "execution_count": 10,
   "metadata": {},
   "outputs": [
    {
     "name": "stdout",
     "output_type": "stream",
     "text": [
      "0    284315\n",
      "1       492\n",
      "Name: Class, dtype: int64\n"
     ]
    }
   ],
   "source": [
    "print(value_counts)"
   ]
  },
  {
   "cell_type": "code",
   "execution_count": 11,
   "metadata": {},
   "outputs": [
    {
     "data": {
      "image/png": "[encoded data removed]",
      "text/plain": [
       "<Figure size 1224x576 with 2 Axes>"
      ]
     },
     "metadata": {
      "needs_background": "light"
     },
     "output_type": "display_data"
    }
   ],
   "source": [
    "fig, (ax1, ax2) = plt.subplots(2, 1, sharex=True, figsize=(17,8))\n",
    "bins = 50\n",
    "ax1.hist(dataset.Time[dataset.Class == 1], bins=bins)\n",
    "ax1.set_title('Fraud')\n",
    "ax1.grid(axis='y', which='major')\n",
    "ax2.hist(dataset.Time[dataset.Class == 0], bins=bins)\n",
    "ax2.set_title('Good')\n",
    "ax2.grid(axis='y', which='major')\n",
    "plt.xlabel('Time in seconds since the first transaction')\n",
    "plt.ylabel('Number of Transaction')\n",
    "plt.show()"
   ]
  },
  {
   "cell_type": "markdown",
   "metadata": {},
   "source": [
    "### Feature Engineering"
   ]
  },
  {
   "cell_type": "code",
   "execution_count": 12,
   "metadata": {},
   "outputs": [],
   "source": [
    "# Normalize the feature Amount\n",
    "dataset['Amount_norm'] = StandardScaler().fit_transform(dataset['Amount'].values.reshape(-1,1))"
   ]
  },
  {
   "cell_type": "markdown",
   "metadata": {},
   "source": [
    "### Data Modeling"
   ]
  },
  {
   "cell_type": "markdown",
   "metadata": {},
   "source": [
    "#### train_test_split"
   ]
  },
  {
   "cell_type": "code",
   "execution_count": 13,
   "metadata": {},
   "outputs": [],
   "source": [
    "Y = dataset.Class.tolist()\n",
    "X = dataset.drop(['Time','Amount','Class'], axis=1)\n"
   ]
  },
  {
   "cell_type": "code",
   "execution_count": 14,
   "metadata": {},
   "outputs": [],
   "source": [
    "training_x, testing_x, training_y, testing_y = train_test_split (X, Y, test_size = 0.3)"
   ]
  },
  {
   "cell_type": "markdown",
   "metadata": {},
   "source": [
    "#### initialize model"
   ]
  },
  {
   "cell_type": "code",
   "execution_count": 15,
   "metadata": {},
   "outputs": [],
   "source": [
    "classifier = LogisticRegression()"
   ]
  },
  {
   "cell_type": "code",
   "execution_count": 16,
   "metadata": {},
   "outputs": [],
   "source": [
    "def start_training(classifier, training_x, training_y):\n",
    "    training_start_time = time.time()\n",
    "    print(f'Training is started at Epoch Time in Second: {training_start_time}')\n",
    "\n",
    "    classifier.fit(training_x, training_y)\n",
    "\n",
    "    training_end_time = time.time()\n",
    "    print(f'Training is ended at Epoch Time in Second: {training_end_time}')\n",
    "\n",
    "    training_time = training_end_time - training_start_time\n",
    "    return classifier, training_time"
   ]
  },
  {
   "cell_type": "markdown",
   "metadata": {},
   "source": [
    "#### model training"
   ]
  },
  {
   "cell_type": "code",
   "execution_count": 17,
   "metadata": {},
   "outputs": [
    {
     "name": "stdout",
     "output_type": "stream",
     "text": [
      "Training is started at Epoch Time in Second: 1653418214.1240196\n",
      "Training is ended at Epoch Time in Second: 1653418217.2400277\n",
      "Training is elapsed for 3.12 seconds\n"
     ]
    }
   ],
   "source": [
    "clf, t = start_training(classifier, training_x, training_y)\n",
    "print(f'Training is elapsed for {t:.3} seconds')"
   ]
  },
  {
   "cell_type": "markdown",
   "metadata": {},
   "source": [
    "#### model testing"
   ]
  },
  {
   "cell_type": "code",
   "execution_count": 18,
   "metadata": {},
   "outputs": [],
   "source": [
    "predicted_y = clf.predict(testing_x)"
   ]
  },
  {
   "cell_type": "code",
   "execution_count": 19,
   "metadata": {},
   "outputs": [],
   "source": [
    "# confusion matrix\n",
    "cm = confusion_matrix(testing_y, predicted_y)"
   ]
  },
  {
   "cell_type": "code",
   "execution_count": 20,
   "metadata": {},
   "outputs": [],
   "source": [
    "def plot_confusion_matrix(cm, classes, normalize = False, title = 'Confusion matrix\"', cmap = plt.cm.Blues) :\n",
    "    plt.figure()\n",
    "    plt.imshow(cm, interpolation = 'nearest', cmap = cmap)\n",
    "    plt.title(title)\n",
    "    plt.colorbar()\n",
    "    tick_marks = np.arange(len(classes))\n",
    "    plt.xticks(tick_marks, classes, rotation = 0)\n",
    "    plt.yticks(tick_marks, classes)\n",
    " \n",
    "    thresh = cm.max() / 2.\n",
    "    for i, j in itertools.product(range(cm.shape[0]), range(cm.shape[1])) :\n",
    "        plt.text(\n",
    "            j, i, cm[i, j],\n",
    "            horizontalalignment = 'center',\n",
    "            color = 'white' if cm[i, j] > thresh else 'black'\n",
    "        )\n",
    " \n",
    "    plt.tight_layout()\n",
    "    plt.ylabel('True label')\n",
    "    plt.xlabel('Predicted label')\n",
    "    plt.show()"
   ]
  },
  {
   "cell_type": "code",
   "execution_count": 21,
   "metadata": {},
   "outputs": [
    {
     "data": {
      "image/png": "[encoded data removed]",
      "text/plain": [
       "<Figure size 432x288 with 2 Axes>"
      ]
     },
     "metadata": {
      "needs_background": "light"
     },
     "output_type": "display_data"
    }
   ],
   "source": [
    "# show our confusion matrix\n",
    "label = [0, 1]\n",
    "plot_confusion_matrix(cm, classes=label, title='Logistic Regression Confusion Matrix')"
   ]
  },
  {
   "cell_type": "code",
   "execution_count": 22,
   "metadata": {},
   "outputs": [
    {
     "name": "stdout",
     "output_type": "stream",
     "text": [
      "[ -8.82194977  -9.79196068 -10.21849713 ...  -9.82835386 -10.24586029\n",
      " -11.46667725]\n"
     ]
    }
   ],
   "source": [
    "# calculate the score\n",
    "score_y = clf.decision_function(testing_x)  \n",
    "print(score_y)"
   ]
  },
  {
   "cell_type": "markdown",
   "metadata": {},
   "source": [
    "### Evaluate Result"
   ]
  },
  {
   "cell_type": "code",
   "execution_count": 23,
   "metadata": {},
   "outputs": [
    {
     "name": "stdout",
     "output_type": "stream",
     "text": [
      "Precision: 0.845\n",
      "Recall: 0.616\n",
      "F1 score: 0.713\n"
     ]
    }
   ],
   "source": [
    "tp = cm[1,1]\n",
    "fn = cm[1,0]\n",
    "fp = cm[0,1]\n",
    "tn = cm[0,0]\n",
    "\n",
    "precision = tp/(tp+fp)\n",
    "recall = tp/(tp+fn)\n",
    "print(f'Precision: {precision:.3f}')\n",
    "print(f'Recall: {recall:.3f}')\n",
    "f1 = (precision*recall)/(precision+recall) *2\n",
    "print(f'F1 score: {f1:.3f}')\n"
   ]
  },
  {
   "cell_type": "code",
   "execution_count": 24,
   "metadata": {},
   "outputs": [
    {
     "name": "stdout",
     "output_type": "stream",
     "text": [
      "Accuracy by hand: 0.999\n",
      "Accuracy by accuracy_score: 0.999\n"
     ]
    }
   ],
   "source": [
    "# validate accuracy_score, = (tp+tn)/(tp+fn+fp+tn)\n",
    "\n",
    "accuracy = (tp+tn)/(tp+fn+fp+tn)\n",
    "print(f'Accuracy by hand: {accuracy:.3f}')\n",
    "\n",
    "score = accuracy_score(testing_y, predicted_y)\n",
    "print(f'Accuracy by accuracy_score: {score:.3f}')"
   ]
  },
  {
   "cell_type": "code",
   "execution_count": 25,
   "metadata": {},
   "outputs": [],
   "source": [
    "precision, recall, thresholds = precision_recall_curve(testing_y, score_y)"
   ]
  },
  {
   "cell_type": "code",
   "execution_count": 26,
   "metadata": {},
   "outputs": [
    {
     "data": {
      "image/png": "[encoded data removed]",
      "text/plain": [
       "<Figure size 432x288 with 1 Axes>"
      ]
     },
     "metadata": {
      "needs_background": "light"
     },
     "output_type": "display_data"
    }
   ],
   "source": [
    "# Precision-Call curve\n",
    "plt.step(recall, precision, color = 'b', alpha = 0.2, where = 'post')\n",
    "plt.fill_between(recall, precision, step ='post', alpha = 0.2, color = 'b')\n",
    "plt.plot(recall, precision, linewidth=2)\n",
    "plt.xlim([0.0,1])\n",
    "plt.ylim([0.0,1.05])\n",
    "plt.xlabel('Recall')\n",
    "plt.ylabel('Precision')\n",
    "plt.title('Precision-Recall curve')\n",
    "x=np.linspace(0,1,100)\n",
    "y=x\n",
    "plt.plot(x, y)\n",
    "plt.grid()\n",
    "plt.show()"
   ]
  },
  {
   "cell_type": "code",
   "execution_count": 27,
   "metadata": {},
   "outputs": [
    {
     "data": {
      "image/png": "[encoded data removed]",
      "text/plain": [
       "<Figure size 432x288 with 1 Axes>"
      ]
     },
     "metadata": {
      "needs_background": "light"
     },
     "output_type": "display_data"
    }
   ],
   "source": [
    "# diagram of Precision/Recall over threshold, illustrating the relation of Precision/Recall and threshold\n",
    "plt.plot(thresholds, precision[:-1], 'b--', label='Precision')\n",
    "plt.plot(thresholds, recall[:-1], 'g-', label='Recall')\n",
    "plt.title('Precision/Recall Threshold Curve')\n",
    "plt.xlabel('Threshold')\n",
    "plt.legend()\n",
    "plt.grid()\n",
    "plt.show()\n"
   ]
  },
  {
   "cell_type": "code",
   "execution_count": 28,
   "metadata": {},
   "outputs": [
    {
     "name": "stdout",
     "output_type": "stream",
     "text": [
      "              precision    recall  f1-score   support\n",
      "\n",
      "           0       1.00      1.00      1.00     85292\n",
      "           1       0.85      0.62      0.71       151\n",
      "\n",
      "    accuracy                           1.00     85443\n",
      "   macro avg       0.92      0.81      0.86     85443\n",
      "weighted avg       1.00      1.00      1.00     85443\n",
      "\n"
     ]
    }
   ],
   "source": [
    "print(classification_report(testing_y, predicted_y))"
   ]
  },
  {
   "cell_type": "code",
   "execution_count": 29,
   "metadata": {},
   "outputs": [
    {
     "data": {
      "image/png": "[encoded data removed]",
      "text/plain": [
       "<Figure size 432x288 with 1 Axes>"
      ]
     },
     "metadata": {
      "needs_background": "light"
     },
     "output_type": "display_data"
    }
   ],
   "source": [
    "# ROC curve\n",
    "y_pred_proba = classifier.predict_proba(testing_x)[::,1]\n",
    "fpr, tpr, _ = roc_curve(testing_y,  y_pred_proba)\n",
    "\n",
    "# create ROC curve\n",
    "plt.plot(fpr, tpr)\n",
    "plt.title('ROC curve')\n",
    "plt.ylabel('True Positive Rate')\n",
    "plt.xlabel('False Positive Rate')\n",
    "plt.show()"
   ]
  },
  {
   "cell_type": "code",
   "execution_count": 30,
   "metadata": {},
   "outputs": [
    {
     "name": "stdout",
     "output_type": "stream",
     "text": [
      "AUC is 0.962\n"
     ]
    }
   ],
   "source": [
    "auc = roc_auc_score(testing_y, y_pred_proba)\n",
    "print(f'AUC is {auc:.3f}')"
   ]
  },
  {
   "cell_type": "markdown",
   "metadata": {},
   "source": []
  }
 ],
 "metadata": {
  "interpreter": {
   "hash": "254a36b2ded2ec0052557e1072ee5d46a42183376817ac4da89ec7f3b2df0eb5"
  },
  "kernelspec": {
   "display_name": "Python 3.8.8 ('base')",
   "language": "python",
   "name": "python3"
  },
  "language_info": {
   "codemirror_mode": {
    "name": "ipython",
    "version": 3
   },
   "file_extension": ".py",
   "mimetype": "text/x-python",
   "name": "python",
   "nbconvert_exporter": "python",
   "pygments_lexer": "ipython3",
   "version": "3.8.8"
  },
  "orig_nbformat": 4
 },
 "nbformat": 4,
 "nbformat_minor": 2
}
